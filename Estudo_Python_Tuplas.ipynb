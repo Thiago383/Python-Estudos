{
  "nbformat": 4,
  "nbformat_minor": 0,
  "metadata": {
    "colab": {
      "provenance": [],
      "toc_visible": true,
      "authorship_tag": "ABX9TyNa921RXW+tO6Jsv+fhss6t",
      "include_colab_link": true
    },
    "kernelspec": {
      "name": "python3",
      "display_name": "Python 3"
    },
    "language_info": {
      "name": "python"
    }
  },
  "cells": [
    {
      "cell_type": "markdown",
      "metadata": {
        "id": "view-in-github",
        "colab_type": "text"
      },
      "source": [
        "<a href=\"https://colab.research.google.com/github/Thiago383/Python-Estudos/blob/main/Estudo_Python_Tuplas.ipynb\" target=\"_parent\"><img src=\"https://colab.research.google.com/assets/colab-badge.svg\" alt=\"Open In Colab\"/></a>"
      ]
    },
    {
      "cell_type": "markdown",
      "source": [
        "# **Tuplas**\n",
        "\n",
        "Tuplas são váriaveis compostas imutáveis."
      ],
      "metadata": {
        "id": "i4KM88FVRQiu"
      }
    },
    {
      "cell_type": "markdown",
      "source": [
        "**Estrutura**\n",
        "\n",
        "* As variáveis comuns só conseguem armazenar 1 valor por vez;\n",
        "* Tuplas conseguem armazenar diversos valores diferentes dentro de uma só variável.\n",
        "* Para declarar um tupla, basta colocar todos os valores entre parênteses e separados por vírgula;\n",
        "* Pode utilizar aspas simples e aspas duplas;"
      ],
      "metadata": {
        "id": "8N9oRfH3R5Sd"
      }
    },
    {
      "cell_type": "markdown",
      "source": [
        "*Exemplo 1*"
      ],
      "metadata": {
        "id": "fgZUjSNWTbGx"
      }
    },
    {
      "cell_type": "code",
      "source": [
        "# Definindo a Tupla.\n",
        "tupla = (\"valor1\", \"valor2\", \"valor3\")\n",
        "\n",
        "# Imprimindo a Tupla.\n",
        "print(tupla)"
      ],
      "metadata": {
        "colab": {
          "base_uri": "https://localhost:8080/"
        },
        "id": "olwQ79VbSnO0",
        "outputId": "1067758f-3533-4b51-d4b7-b480ad629590"
      },
      "execution_count": 2,
      "outputs": [
        {
          "output_type": "stream",
          "name": "stdout",
          "text": [
            "('valor1', 'valor2', 'valor3')\n"
          ]
        }
      ]
    },
    {
      "cell_type": "markdown",
      "source": [
        "*Exemplo 2*\n",
        "\n",
        "Defina uma tupla com valores numéricos."
      ],
      "metadata": {
        "id": "2fHgipmmThgK"
      }
    },
    {
      "cell_type": "code",
      "source": [
        "# Definindo a Tupla.\n",
        "tupla = ('7','10','5','20')\n",
        "\n",
        "# Imprima a Tupla.\n",
        "print(tupla)"
      ],
      "metadata": {
        "colab": {
          "base_uri": "https://localhost:8080/"
        },
        "id": "SZlPOfU3TwyW",
        "outputId": "b29977fa-73ff-4305-d8fa-7ded6dd851ec"
      },
      "execution_count": 4,
      "outputs": [
        {
          "output_type": "stream",
          "name": "stdout",
          "text": [
            "('7', '10', '5', '20')\n"
          ]
        }
      ]
    },
    {
      "cell_type": "markdown",
      "source": [
        "*Exemplo 3*\n",
        "Defina uma tupla com vários tipos de dados, String, Float, Int, Boolean, ... ."
      ],
      "metadata": {
        "id": "yMeourcrUp7u"
      }
    },
    {
      "cell_type": "code",
      "source": [
        "# Definindo o valor/valores da Tupla.\n",
        "tupla = (\"Thiago\", 23, 1.65, False)\n",
        "\n",
        "# Imprima a Tupla.\n",
        "print(tupla)"
      ],
      "metadata": {
        "colab": {
          "base_uri": "https://localhost:8080/"
        },
        "id": "ISad8SNPVC_B",
        "outputId": "b0c4e603-001a-4c38-bc09-157d64f9f9ff"
      },
      "execution_count": 8,
      "outputs": [
        {
          "output_type": "stream",
          "name": "stdout",
          "text": [
            "('Thiago', 23, 1.65, False)\n"
          ]
        }
      ]
    }
  ]
}