{
  "nbformat": 4,
  "nbformat_minor": 0,
  "metadata": {
    "colab": {
      "provenance": [],
      "toc_visible": true,
      "authorship_tag": "ABX9TyMUv9noJy2nPD2haigbYvx5",
      "include_colab_link": true
    },
    "kernelspec": {
      "name": "python3",
      "display_name": "Python 3"
    },
    "language_info": {
      "name": "python"
    }
  },
  "cells": [
    {
      "cell_type": "markdown",
      "metadata": {
        "id": "view-in-github",
        "colab_type": "text"
      },
      "source": [
        "<a href=\"https://colab.research.google.com/github/Thiago383/Python-Estudos/blob/main/Estudo_Python_Tuplas.ipynb\" target=\"_parent\"><img src=\"https://colab.research.google.com/assets/colab-badge.svg\" alt=\"Open In Colab\"/></a>"
      ]
    },
    {
      "cell_type": "markdown",
      "source": [
        "# **Tuplas**\n",
        "\n",
        "Tuplas são váriaveis compostas imutáveis."
      ],
      "metadata": {
        "id": "i4KM88FVRQiu"
      }
    },
    {
      "cell_type": "markdown",
      "source": [
        "**Estrutura**\n",
        "\n",
        "* As variáveis comuns só conseguem armazenar 1 valor por vez;\n",
        "* Tuplas conseguem armazenar diversos valores diferentes dentro de uma só variável.\n",
        "* Para declarar um tupla, basta colocar todos os valores entre parênteses e separados por vírgula;\n",
        "* Pode utilizar aspas simples e aspas duplas;"
      ],
      "metadata": {
        "id": "8N9oRfH3R5Sd"
      }
    },
    {
      "cell_type": "markdown",
      "source": [
        "*Exemplo 1*"
      ],
      "metadata": {
        "id": "fgZUjSNWTbGx"
      }
    },
    {
      "cell_type": "code",
      "source": [
        "# Definindo a Tupla.\n",
        "tupla = (\"valor1\", \"valor2\", \"valor3\")\n",
        "\n",
        "# Imprimindo a Tupla.\n",
        "print(tupla)"
      ],
      "metadata": {
        "colab": {
          "base_uri": "https://localhost:8080/"
        },
        "id": "olwQ79VbSnO0",
        "outputId": "1067758f-3533-4b51-d4b7-b480ad629590"
      },
      "execution_count": null,
      "outputs": [
        {
          "output_type": "stream",
          "name": "stdout",
          "text": [
            "('valor1', 'valor2', 'valor3')\n"
          ]
        }
      ]
    },
    {
      "cell_type": "markdown",
      "source": [
        "*Exemplo 2*\n",
        "\n",
        "Defina uma tupla com valores numéricos."
      ],
      "metadata": {
        "id": "2fHgipmmThgK"
      }
    },
    {
      "cell_type": "code",
      "source": [
        "# Definindo a Tupla.\n",
        "tupla = ('7','10','5','20')\n",
        "\n",
        "# Imprima a Tupla.\n",
        "print(tupla)"
      ],
      "metadata": {
        "colab": {
          "base_uri": "https://localhost:8080/"
        },
        "id": "SZlPOfU3TwyW",
        "outputId": "b29977fa-73ff-4305-d8fa-7ded6dd851ec"
      },
      "execution_count": null,
      "outputs": [
        {
          "output_type": "stream",
          "name": "stdout",
          "text": [
            "('7', '10', '5', '20')\n"
          ]
        }
      ]
    },
    {
      "cell_type": "markdown",
      "source": [
        "*Exemplo 3*\n",
        "Defina uma tupla com vários tipos de dados, String, Float, Int, Boolean, ... ."
      ],
      "metadata": {
        "id": "yMeourcrUp7u"
      }
    },
    {
      "cell_type": "code",
      "source": [
        "# Definindo o valor/valores da Tupla.\n",
        "tupla = (\"Thiago\", 23, 1.65, False)\n",
        "\n",
        "# Imprima a Tupla.\n",
        "print(tupla)"
      ],
      "metadata": {
        "colab": {
          "base_uri": "https://localhost:8080/"
        },
        "id": "ISad8SNPVC_B",
        "outputId": "b0c4e603-001a-4c38-bc09-157d64f9f9ff"
      },
      "execution_count": null,
      "outputs": [
        {
          "output_type": "stream",
          "name": "stdout",
          "text": [
            "('Thiago', 23, 1.65, False)\n"
          ]
        }
      ]
    },
    {
      "cell_type": "markdown",
      "source": [
        "# **Acessando os Valores**\n",
        "\n",
        "* Para acessar os valores das tuplas, basta colocar o índice da tupla desejado entre colchetes;\n",
        "\n",
        "Cada valor dentro da tupla fica salvo como um índice, que começa em 0 e vai aumentando de 1 em 1 até o último termo da tupla.\n",
        "Então pra tupla abaixo:\n",
        "\n",
        "\n",
        "\n",
        "```\n",
        "         [0] [1] [2] [3]\n",
        "tupla2 = (1,  3,  5,  7)\n",
        "```\n",
        "Os termos dela são:\n",
        "\n",
        "\n",
        "\n",
        "```\n",
        "tupla2 [0] == 1\n",
        "tupla2 [1] == 3\n",
        "tupla2 [2] == 5\n",
        "tupla2 [3] == 7\n",
        "```\n"
      ],
      "metadata": {
        "id": "B2yx1MCLe7Ev"
      }
    },
    {
      "cell_type": "markdown",
      "source": [
        "*Exemplo 1*\n",
        "\n",
        "\n",
        "Imprimindo cada valor acima."
      ],
      "metadata": {
        "id": "9xF3HW1ShUM2"
      }
    },
    {
      "cell_type": "code",
      "source": [
        "# Definindo a tupla.\n",
        "tupla2 = (1, 3, 5, 7)\n",
        "\n",
        "# Imprimindo valores e suas posições respectivamente.\n",
        "print(tupla2[0])\n",
        "print(tupla2[1])\n",
        "print(tupla2[2])\n",
        "print(tupla2[3])"
      ],
      "metadata": {
        "colab": {
          "base_uri": "https://localhost:8080/"
        },
        "id": "OUh-v1Tohdox",
        "outputId": "89e09575-c1bf-4ef6-b695-5c50124b3e1a",
        "collapsed": true
      },
      "execution_count": null,
      "outputs": [
        {
          "output_type": "stream",
          "name": "stdout",
          "text": [
            "1\n",
            "3\n",
            "5\n",
            "7\n"
          ]
        }
      ]
    },
    {
      "cell_type": "markdown",
      "source": [
        "*Exemplo 2*\n",
        "\n",
        "Imprimindo a soma dos valores da \"tupla2\"."
      ],
      "metadata": {
        "id": "i2NzPVy9jNMC"
      }
    },
    {
      "cell_type": "code",
      "source": [
        "# Somando os valores\n",
        "soma = tupla2[0] + tupla2[1] + tupla2[2] + tupla2[3]\n",
        "\n",
        "# Imprimindo a soma dos valores\n",
        "print(soma)"
      ],
      "metadata": {
        "colab": {
          "base_uri": "https://localhost:8080/"
        },
        "id": "Hjzv9iTMja4N",
        "outputId": "eef3e50a-300a-4874-90a2-aaa446f4e12b"
      },
      "execution_count": null,
      "outputs": [
        {
          "output_type": "stream",
          "name": "stdout",
          "text": [
            "16\n"
          ]
        }
      ]
    },
    {
      "cell_type": "markdown",
      "source": [
        "**Acessando Múltiplos Valores**\n",
        "\n",
        "* É possível acessar mais de um valor ao mesmo tempo, basta colocar entre colchetes;\n",
        "\n",
        "\n",
        "```\n",
        "tupla2[0:2]\n",
        "tupla2[2:4]\n",
        "tupla2[:3]\n",
        "tupla2[2:]\n",
        "tupla2[-1]\n",
        "```\n",
        "[0:2]: Vai acessar os primeiros dois valores da tupla -> ``` 10, 17 ```\n",
        "\n",
        "[2:4]: Vai acessar o 3º e o 4º valor da tupla -> ``` 6, 7 ```\n",
        "\n",
        "[:3]: Vai acessar os primeiros 3 valores da tupla -> ``` 10, 17 6 ```\n",
        "\n",
        "[2:]: Vai partir do 3º ao último termo da tupla -> ``` 6, 7 ```\n",
        "\n",
        "[-1]: Vai acessar o último termo da tupla -> ``` 7 ```"
      ],
      "metadata": {
        "id": "dJ7HBkXWbIQz"
      }
    },
    {
      "cell_type": "code",
      "source": [
        "# Defininda a tupla\n",
        "tupla2 = (10, 17, 6, 7)\n",
        "\n",
        "# Acessndo mais de um valor da \"tupla2\"\n",
        "print(tupla2[0:2])\n",
        "print(\"\")\n",
        "print(tupla2[2:4])\n",
        "print(\"\")\n",
        "print(tupla2[:3])\n",
        "print(\"\")\n",
        "print(tupla2[2:])\n",
        "print(\"\")\n",
        "print(tupla2[-1])"
      ],
      "metadata": {
        "colab": {
          "base_uri": "https://localhost:8080/"
        },
        "id": "8t0pnJMzf95C",
        "outputId": "ce156949-b3c8-45bf-871a-f7506624beb0"
      },
      "execution_count": 10,
      "outputs": [
        {
          "output_type": "stream",
          "name": "stdout",
          "text": [
            "(10, 17)\n",
            "\n",
            "(6, 7)\n",
            "\n",
            "(10, 17, 6)\n",
            "\n",
            "(6, 7)\n",
            "\n",
            "7\n"
          ]
        }
      ]
    }
  ]
}