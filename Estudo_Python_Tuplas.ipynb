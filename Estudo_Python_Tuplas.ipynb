{
  "nbformat": 4,
  "nbformat_minor": 0,
  "metadata": {
    "colab": {
      "provenance": [],
      "toc_visible": true,
      "authorship_tag": "ABX9TyN8x9snxsiPqEy2ggrNfOQD",
      "include_colab_link": true
    },
    "kernelspec": {
      "name": "python3",
      "display_name": "Python 3"
    },
    "language_info": {
      "name": "python"
    }
  },
  "cells": [
    {
      "cell_type": "markdown",
      "metadata": {
        "id": "view-in-github",
        "colab_type": "text"
      },
      "source": [
        "<a href=\"https://colab.research.google.com/github/Thiago383/Python-Estudos/blob/main/Estudo_Python_Tuplas.ipynb\" target=\"_parent\"><img src=\"https://colab.research.google.com/assets/colab-badge.svg\" alt=\"Open In Colab\"/></a>"
      ]
    },
    {
      "cell_type": "markdown",
      "source": [
        "# **Tuplas**\n",
        "\n",
        "Tuplas são váriaveis compostas imutáveis."
      ],
      "metadata": {
        "id": "i4KM88FVRQiu"
      }
    },
    {
      "cell_type": "markdown",
      "source": [
        "**Estrutura**\n",
        "\n",
        "* As variáveis comuns só conseguem armazenar 1 valor por vez;\n",
        "* Tuplas conseguem armazenar diversos valores diferentes dentro de uma só variável.\n",
        "* Para declarar um tupla, basta colocar todos os valores entre parênteses e separados por vírgula;\n",
        "* Pode utilizar aspas e aspas duplas;\n",
        "* Tuplas são muito utilizadas como váriavel de segurança, por exemplo, e-mail pode ser armazenado em um tupla.  "
      ],
      "metadata": {
        "id": "8N9oRfH3R5Sd"
      }
    },
    {
      "cell_type": "markdown",
      "source": [
        "*Exemplo 1*"
      ],
      "metadata": {
        "id": "fgZUjSNWTbGx"
      }
    },
    {
      "cell_type": "code",
      "source": [
        "# Definindo a Tupla.\n",
        "tupla = (\"valor1\", \"valor2\", \"valor3\")\n",
        "\n",
        "# Imprimindo a Tupla.\n",
        "print(tupla)"
      ],
      "metadata": {
        "colab": {
          "base_uri": "https://localhost:8080/"
        },
        "id": "olwQ79VbSnO0",
        "outputId": "1067758f-3533-4b51-d4b7-b480ad629590"
      },
      "execution_count": null,
      "outputs": [
        {
          "output_type": "stream",
          "name": "stdout",
          "text": [
            "('valor1', 'valor2', 'valor3')\n"
          ]
        }
      ]
    },
    {
      "cell_type": "markdown",
      "source": [
        "*Exemplo 2*\n",
        "\n",
        "Defina uma tupla com valores numéricos."
      ],
      "metadata": {
        "id": "2fHgipmmThgK"
      }
    },
    {
      "cell_type": "code",
      "source": [
        "# Definindo a Tupla.\n",
        "tupla = ('7','10','5','20')\n",
        "\n",
        "# Imprima a Tupla.\n",
        "print(tupla)"
      ],
      "metadata": {
        "colab": {
          "base_uri": "https://localhost:8080/"
        },
        "id": "SZlPOfU3TwyW",
        "outputId": "b29977fa-73ff-4305-d8fa-7ded6dd851ec"
      },
      "execution_count": null,
      "outputs": [
        {
          "output_type": "stream",
          "name": "stdout",
          "text": [
            "('7', '10', '5', '20')\n"
          ]
        }
      ]
    },
    {
      "cell_type": "markdown",
      "source": [
        "*Exemplo 3*\n",
        "Defina uma tupla com vários tipos de dados, String, Float, Int, Boolean, ... ."
      ],
      "metadata": {
        "id": "yMeourcrUp7u"
      }
    },
    {
      "cell_type": "code",
      "source": [
        "# Definindo o valor/valores da Tupla.\n",
        "tupla = (\"Thiago\", 23, 1.65, False)\n",
        "\n",
        "# Imprima a Tupla.\n",
        "print(tupla)"
      ],
      "metadata": {
        "colab": {
          "base_uri": "https://localhost:8080/"
        },
        "id": "ISad8SNPVC_B",
        "outputId": "b0c4e603-001a-4c38-bc09-157d64f9f9ff"
      },
      "execution_count": null,
      "outputs": [
        {
          "output_type": "stream",
          "name": "stdout",
          "text": [
            "('Thiago', 23, 1.65, False)\n"
          ]
        }
      ]
    },
    {
      "cell_type": "markdown",
      "source": [
        "# **Acessando os Valores**\n",
        "\n",
        "* Para acessar os valores das tuplas, basta colocar o índice da tupla desejado entre colchetes;\n",
        "\n",
        "Cada valor dentro da tupla fica salvo como um índice, que começa em 0 e vai aumentando de 1 em 1 até o último termo da tupla.\n",
        "Então pra tupla abaixo:\n",
        "\n",
        "\n",
        "\n",
        "```\n",
        "         [0] [1] [2] [3]\n",
        "tupla2 = (1,  3,  5,  7)\n",
        "```\n",
        "Os termos dela são:\n",
        "\n",
        "\n",
        "\n",
        "```\n",
        "tupla2 [0] == 1\n",
        "tupla2 [1] == 3\n",
        "tupla2 [2] == 5\n",
        "tupla2 [3] == 7\n",
        "```\n"
      ],
      "metadata": {
        "id": "B2yx1MCLe7Ev"
      }
    },
    {
      "cell_type": "markdown",
      "source": [
        "*Exemplo 1*\n",
        "\n",
        "\n",
        "Imprimindo cada valor acima."
      ],
      "metadata": {
        "id": "9xF3HW1ShUM2"
      }
    },
    {
      "cell_type": "code",
      "source": [
        "# Definindo a tupla.\n",
        "tupla2 = (1, 3, 5, 7)\n",
        "\n",
        "# Imprimindo valores e suas posições respectivamente.\n",
        "print(tupla2[0])\n",
        "print(tupla2[1])\n",
        "print(tupla2[2])\n",
        "print(tupla2[3])"
      ],
      "metadata": {
        "colab": {
          "base_uri": "https://localhost:8080/"
        },
        "id": "OUh-v1Tohdox",
        "outputId": "89e09575-c1bf-4ef6-b695-5c50124b3e1a",
        "collapsed": true
      },
      "execution_count": null,
      "outputs": [
        {
          "output_type": "stream",
          "name": "stdout",
          "text": [
            "1\n",
            "3\n",
            "5\n",
            "7\n"
          ]
        }
      ]
    },
    {
      "cell_type": "markdown",
      "source": [
        "*Exemplo 2*\n",
        "\n",
        "Imprimindo a soma dos valores da \"tupla2\"."
      ],
      "metadata": {
        "id": "i2NzPVy9jNMC"
      }
    },
    {
      "cell_type": "code",
      "source": [
        "# Somando os valores\n",
        "soma = tupla2[0] + tupla2[1] + tupla2[2] + tupla2[3]\n",
        "\n",
        "# Imprimindo a soma dos valores\n",
        "print(soma)"
      ],
      "metadata": {
        "colab": {
          "base_uri": "https://localhost:8080/"
        },
        "id": "Hjzv9iTMja4N",
        "outputId": "eef3e50a-300a-4874-90a2-aaa446f4e12b"
      },
      "execution_count": null,
      "outputs": [
        {
          "output_type": "stream",
          "name": "stdout",
          "text": [
            "16\n"
          ]
        }
      ]
    },
    {
      "cell_type": "markdown",
      "source": [
        "**Acessando Múltiplos Valores**\n",
        "\n",
        "* É possível acessar mais de um valor ao mesmo tempo, basta colocar entre colchetes;\n",
        "\n",
        "\n",
        "```\n",
        "tupla2[0:2]\n",
        "tupla2[2:4]\n",
        "tupla2[:3]\n",
        "tupla2[2:]\n",
        "tupla2[-1]\n",
        "```\n",
        "[0:2]: Acessa os dois primeiros elementos da tupla. Resultado: ``` 10, 17 ```\n",
        "\n",
        "[2:4]: Acessa o 3º e o 4º elementos da tupla. Importante lembrar que o índice final (posição 4) não é incluído. Resultado: ``` 6, 7 ```\n",
        "\n",
        "[:3]: Acessa os três primeiros elementos da tupla. Resultado: ``` 10, 17 6 ```\n",
        "\n",
        "[2:]: Acessa do 3º elemento até o último. Resultado: ``` 6, 7 ```\n",
        "\n",
        "[-1]: Acessa o último elemento da tupla. Resultado: ``` 7 ```"
      ],
      "metadata": {
        "id": "dJ7HBkXWbIQz"
      }
    },
    {
      "cell_type": "code",
      "source": [
        "# Defininda a tupla\n",
        "tupla2 = (10, 17, 6, 7)\n",
        "\n",
        "# Acessndo mais de um valor da \"tupla2\"\n",
        "print(tupla2[0:2])\n",
        "print(\"\")\n",
        "print(tupla2[2:4])\n",
        "print(\"\")\n",
        "print(tupla2[:3])\n",
        "print(\"\")\n",
        "print(tupla2[2:])\n",
        "print(\"\")\n",
        "print(tupla2[-1])"
      ],
      "metadata": {
        "colab": {
          "base_uri": "https://localhost:8080/"
        },
        "id": "8t0pnJMzf95C",
        "outputId": "ce156949-b3c8-45bf-871a-f7506624beb0"
      },
      "execution_count": null,
      "outputs": [
        {
          "output_type": "stream",
          "name": "stdout",
          "text": [
            "(10, 17)\n",
            "\n",
            "(6, 7)\n",
            "\n",
            "(10, 17, 6)\n",
            "\n",
            "(6, 7)\n",
            "\n",
            "7\n"
          ]
        }
      ]
    },
    {
      "cell_type": "markdown",
      "source": [
        "**As tuplas são imutáveis, ou seja, a partir do momento que ela é declarada, não pode mais mudar seus valores.**\n",
        "\n",
        "A tupla possui o próprio tipo: ``` tuple ```.\n",
        "\n",
        "\n",
        "Porém os valores de cada um dos seus termos permanecem com o tipo original.\n"
      ],
      "metadata": {
        "id": "IpVSo-VwynmR"
      }
    },
    {
      "cell_type": "code",
      "source": [
        "# Definindo a tupla\n",
        "tupla3 = (3,4,6,10)\n",
        "\n",
        "# Imprimindo as variáveis e seus tipos\n",
        "print(tupla3)\n",
        "print()\n",
        "print(type(tupla3[0])) # Resposta -> \"int\". Ou seja, se pegarmos um valor separadamente o comando \"type\" vai retornar o valor da variável.\n",
        "print()\n",
        "print(type(tupla3))"
      ],
      "metadata": {
        "colab": {
          "base_uri": "https://localhost:8080/"
        },
        "id": "sYx3gX9h0g_x",
        "outputId": "524be0df-954c-4b1d-f144-fd58f6a55c48"
      },
      "execution_count": 5,
      "outputs": [
        {
          "output_type": "stream",
          "name": "stdout",
          "text": [
            "(3, 4, 6, 10)\n",
            "\n",
            "<class 'int'>\n",
            "\n",
            "<class 'tuple'>\n"
          ]
        }
      ]
    },
    {
      "cell_type": "markdown",
      "source": [
        "# Funções com Tuplas\n",
        "\n",
        "Temos algumas funções muito usadas em tuplas:\n",
        "\n",
        "\n",
        "\n",
        "``` len(tupla1) ```: Quantindade de termos\n",
        "\n",
        "``` sorted(tupla1) ```: Ordenar\n",
        "\n",
        "``` tupla1.count(valor) ```: Contar a quantidade de \"valor\"\n",
        "\n",
        "``` tupla1.index(valor) ```: Achar a primeira posição de \"valor\"\n",
        "\n",
        "``` tupla1.index(valor, pos) ```: Achar o \"valor\" a partir da \"pos\"\n",
        "\n",
        "``` tupla1 + tupla2 ```: Concatenar *tuplas*\n",
        "\n",
        "---\n",
        "\n",
        "\n",
        "*Exemplo 1*\n",
        "\n",
        "\n",
        "\n",
        "Utilizando as tuplas a baixo:\n",
        "\n",
        "\n",
        "```\n",
        "tupla1 = (\"Lanche\", \"Batata\", \"Refri\")\n",
        "tupla2 = (0, 7, 8, 9, 12, 17, 6)\n",
        "tupla3 = (1, 5, 5, 27, 15, 4, \"Sanduiche\")\n",
        "```\n",
        "\n",
        "Faça:\n",
        "* Calcule o tamanho da tuplas: tupla1 e tupla2\n",
        "* Imprima as tuplas ordenadas: tupla1 e tupla2 e depois reimprima-as\n",
        "* Conte quantas vezes aparecem o valor 5 na \"tupla3\"\n",
        "* Procure o valor \"5\" na \"tupla3\" após o 2° termo\n",
        "* Concatene as tuplas: tupla2 e tupla3  \n",
        "\n",
        "\n",
        "\n",
        "\n",
        "\n",
        "\n"
      ],
      "metadata": {
        "id": "Id8msa3u8wiw"
      }
    },
    {
      "cell_type": "code",
      "source": [
        "# Declarando as Tuplas\n",
        "tupla1 = (\"Lanche\", \"Batata\", \"Refri\")\n",
        "tupla2 = (0, 7, 8, 9, 12, 17, 6)\n",
        "tupla3 = (1, 5, 4, 5, 15, 4, \"Sanduiche\")"
      ],
      "metadata": {
        "id": "Rg0BEqoG-OP2"
      },
      "execution_count": 52,
      "outputs": []
    },
    {
      "cell_type": "code",
      "source": [
        "# Tamanho das tuplas \"tupla1\" e \"tupla2\"\n",
        "print(len(tupla1)) # Resposta -> 3\n",
        "print(len(tupla2)) # Resposta -> 7\n",
        "print(len(tupla3)) # Resposta -> 7"
      ],
      "metadata": {
        "colab": {
          "base_uri": "https://localhost:8080/"
        },
        "id": "AjQOCMC9BGe6",
        "outputId": "bdba4f42-833a-4d8c-eaa6-707f14bec04f"
      },
      "execution_count": 9,
      "outputs": [
        {
          "output_type": "stream",
          "name": "stdout",
          "text": [
            "3\n",
            "7\n",
            "7\n"
          ]
        }
      ]
    },
    {
      "cell_type": "code",
      "source": [
        "# Imprmindo as \"tupla1\" e \"tupla2\"\n",
        "print(sorted(tupla1)) # Vai ordenar por ordem alfabetica, por que estamos ordenando Strings\n",
        "print(sorted(tupla2)) # Vai ordenar do menor para o maior\n"
      ],
      "metadata": {
        "colab": {
          "base_uri": "https://localhost:8080/"
        },
        "id": "65BvEvtnBwvn",
        "outputId": "590be889-8f93-466e-c82a-83f062ea7074"
      },
      "execution_count": 32,
      "outputs": [
        {
          "output_type": "stream",
          "name": "stdout",
          "text": [
            "['Batata', 'Lanche', 'Refri']\n",
            "[0, 6, 7, 8, 9, 12, 17]\n"
          ]
        }
      ]
    },
    {
      "cell_type": "code",
      "source": [
        "# Conte quantas vezes aparecem o valor 5 na \"tupla3\"\n",
        "print(tupla3)\n",
        "print()\n",
        "\n",
        "# Contando\n",
        "tupla3_count = tupla3.count(5)\n",
        "print(tupla3_count) # Resposta -> 2\n"
      ],
      "metadata": {
        "colab": {
          "base_uri": "https://localhost:8080/"
        },
        "id": "GueVqZhlE7MQ",
        "outputId": "87f8a05e-a68b-4b32-da09-fe676d790c2e"
      },
      "execution_count": 39,
      "outputs": [
        {
          "output_type": "stream",
          "name": "stdout",
          "text": [
            "(1, 5, 5, 27, 15, 4, 'Sanduiche')\n",
            "\n",
            "2\n"
          ]
        }
      ]
    },
    {
      "cell_type": "code",
      "source": [
        "# Achar a primeira posição do valor \"5\" na tupla3\n",
        "print(tupla3)\n",
        "print()\n",
        "\n",
        "# Variável \"tupla3_index\"\n",
        "tupla3_index = tupla3.index(5)\n",
        "print(tupla3_index) # Resposta -> posição 1\n",
        "\n",
        "# Procurando um \"valor\" após uma \"posição\".\n",
        "# Variável \"tupla3_pos\"\n",
        "tupla3_pos = tupla3.index(5, 2)\n",
        "print(tupla3_pos) # Resposta -> 3, pois ele vai começar a contar apartir do 2° posição, que nesse caso é \"4\"\n"
      ],
      "metadata": {
        "colab": {
          "base_uri": "https://localhost:8080/"
        },
        "id": "fgvCeoXSGGAE",
        "outputId": "3ba50a3a-9304-4a63-c103-0042874a5ce8"
      },
      "execution_count": 53,
      "outputs": [
        {
          "output_type": "stream",
          "name": "stdout",
          "text": [
            "(1, 5, 4, 5, 15, 4, 'Sanduiche')\n",
            "\n",
            "1\n",
            "3\n"
          ]
        }
      ]
    },
    {
      "cell_type": "code",
      "source": [
        "# Concatenar as tuplas: \"tupla1\" e \"tupla2\"\n",
        "tupla_concatenada = tupla1 + tupla2\n",
        "print(tupla_concatenada)\n",
        "\n",
        "# Contar o valor da nova tupla\n",
        "print(len(tupla_concatenada))\n",
        "\n",
        "# Ordenar a tupla\n",
        "print(sorted(tupla_concatenada)) # Resposta -> erro, pois não pode concatenar \"int\" com \"String\"\n",
        ""
      ],
      "metadata": {
        "colab": {
          "base_uri": "https://localhost:8080/",
          "height": 228
        },
        "collapsed": true,
        "id": "wHvgdYAEI5g4",
        "outputId": "f0a506af-d7e3-4073-e1c2-45bb56f65db2"
      },
      "execution_count": 56,
      "outputs": [
        {
          "output_type": "stream",
          "name": "stdout",
          "text": [
            "('Lanche', 'Batata', 'Refri', 0, 7, 8, 9, 12, 17, 6)\n",
            "10\n"
          ]
        },
        {
          "output_type": "error",
          "ename": "TypeError",
          "evalue": "'<' not supported between instances of 'int' and 'str'",
          "traceback": [
            "\u001b[0;31m---------------------------------------------------------------------------\u001b[0m",
            "\u001b[0;31mTypeError\u001b[0m                                 Traceback (most recent call last)",
            "\u001b[0;32m<ipython-input-56-d57127571b96>\u001b[0m in \u001b[0;36m<cell line: 0>\u001b[0;34m()\u001b[0m\n\u001b[1;32m      7\u001b[0m \u001b[0;34m\u001b[0m\u001b[0m\n\u001b[1;32m      8\u001b[0m \u001b[0;31m# Ordenar a tupla\u001b[0m\u001b[0;34m\u001b[0m\u001b[0;34m\u001b[0m\u001b[0m\n\u001b[0;32m----> 9\u001b[0;31m \u001b[0mprint\u001b[0m\u001b[0;34m(\u001b[0m\u001b[0msorted\u001b[0m\u001b[0;34m(\u001b[0m\u001b[0mtupla_concatenada\u001b[0m\u001b[0;34m)\u001b[0m\u001b[0;34m)\u001b[0m\u001b[0;34m\u001b[0m\u001b[0;34m\u001b[0m\u001b[0m\n\u001b[0m\u001b[1;32m     10\u001b[0m \u001b[0;34m\u001b[0m\u001b[0m\n",
            "\u001b[0;31mTypeError\u001b[0m: '<' not supported between instances of 'int' and 'str'"
          ]
        }
      ]
    }
  ]
}