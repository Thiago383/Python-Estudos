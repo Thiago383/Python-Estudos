{
  "nbformat": 4,
  "nbformat_minor": 0,
  "metadata": {
    "colab": {
      "provenance": [],
      "toc_visible": true,
      "authorship_tag": "ABX9TyPP48QQ0FgK/yiQ+AHZ1w3+",
      "include_colab_link": true
    },
    "kernelspec": {
      "name": "python3",
      "display_name": "Python 3"
    },
    "language_info": {
      "name": "python"
    }
  },
  "cells": [
    {
      "cell_type": "markdown",
      "metadata": {
        "id": "view-in-github",
        "colab_type": "text"
      },
      "source": [
        "<a href=\"https://colab.research.google.com/github/Thiago383/Python-Estudos/blob/main/Estudo_Python_Tuplas.ipynb\" target=\"_parent\"><img src=\"https://colab.research.google.com/assets/colab-badge.svg\" alt=\"Open In Colab\"/></a>"
      ]
    },
    {
      "cell_type": "markdown",
      "source": [
        "# **Tuplas**\n",
        "\n",
        "Tuplas são váriaveis compostas imutáveis."
      ],
      "metadata": {
        "id": "i4KM88FVRQiu"
      }
    },
    {
      "cell_type": "markdown",
      "source": [
        "**Estrutura**\n",
        "\n",
        "* As variáveis comuns só conseguem armazenar 1 valor por vez;\n",
        "* Tuplas conseguem armazenar diversos valores diferentes dentro de uma só variável.\n",
        "* Para declarar um tupla, basta colocar todos os valores entre parênteses e separados por vírgula;\n",
        "* Pode utilizar aspas e aspas duplas;\n",
        "* Tuplas são muito utilizadas como váriavel de segurança, por exemplo, e-mail pode ser armazenado em um tupla.  "
      ],
      "metadata": {
        "id": "8N9oRfH3R5Sd"
      }
    },
    {
      "cell_type": "markdown",
      "source": [
        "*Exemplo 1*"
      ],
      "metadata": {
        "id": "fgZUjSNWTbGx"
      }
    },
    {
      "cell_type": "code",
      "source": [
        "# Definindo a Tupla.\n",
        "tupla = (\"valor1\", \"valor2\", \"valor3\")\n",
        "\n",
        "# Imprimindo a Tupla.\n",
        "print(tupla)"
      ],
      "metadata": {
        "colab": {
          "base_uri": "https://localhost:8080/"
        },
        "id": "olwQ79VbSnO0",
        "outputId": "1067758f-3533-4b51-d4b7-b480ad629590"
      },
      "execution_count": null,
      "outputs": [
        {
          "output_type": "stream",
          "name": "stdout",
          "text": [
            "('valor1', 'valor2', 'valor3')\n"
          ]
        }
      ]
    },
    {
      "cell_type": "markdown",
      "source": [
        "*Exemplo 2*\n",
        "\n",
        "Defina uma tupla com valores numéricos."
      ],
      "metadata": {
        "id": "2fHgipmmThgK"
      }
    },
    {
      "cell_type": "code",
      "source": [
        "# Definindo a Tupla.\n",
        "tupla = ('7','10','5','20')\n",
        "\n",
        "# Imprima a Tupla.\n",
        "print(tupla)"
      ],
      "metadata": {
        "colab": {
          "base_uri": "https://localhost:8080/"
        },
        "id": "SZlPOfU3TwyW",
        "outputId": "b29977fa-73ff-4305-d8fa-7ded6dd851ec"
      },
      "execution_count": null,
      "outputs": [
        {
          "output_type": "stream",
          "name": "stdout",
          "text": [
            "('7', '10', '5', '20')\n"
          ]
        }
      ]
    },
    {
      "cell_type": "markdown",
      "source": [
        "*Exemplo 3*\n",
        "Defina uma tupla com vários tipos de dados, String, Float, Int, Boolean, ... ."
      ],
      "metadata": {
        "id": "yMeourcrUp7u"
      }
    },
    {
      "cell_type": "code",
      "source": [
        "# Definindo o valor/valores da Tupla.\n",
        "tupla = (\"Thiago\", 23, 1.65, False)\n",
        "\n",
        "# Imprima a Tupla.\n",
        "print(tupla)"
      ],
      "metadata": {
        "colab": {
          "base_uri": "https://localhost:8080/"
        },
        "id": "ISad8SNPVC_B",
        "outputId": "b0c4e603-001a-4c38-bc09-157d64f9f9ff"
      },
      "execution_count": null,
      "outputs": [
        {
          "output_type": "stream",
          "name": "stdout",
          "text": [
            "('Thiago', 23, 1.65, False)\n"
          ]
        }
      ]
    },
    {
      "cell_type": "markdown",
      "source": [
        "# **Acessando os Valores**\n",
        "\n",
        "* Para acessar os valores das tuplas, basta colocar o índice da tupla desejado entre colchetes;\n",
        "\n",
        "Cada valor dentro da tupla fica salvo como um índice, que começa em 0 e vai aumentando de 1 em 1 até o último termo da tupla.\n",
        "Então pra tupla abaixo:\n",
        "\n",
        "\n",
        "\n",
        "```\n",
        "         [0] [1] [2] [3]\n",
        "tupla2 = (1,  3,  5,  7)\n",
        "```\n",
        "Os termos dela são:\n",
        "\n",
        "\n",
        "\n",
        "```\n",
        "tupla2 [0] == 1\n",
        "tupla2 [1] == 3\n",
        "tupla2 [2] == 5\n",
        "tupla2 [3] == 7\n",
        "```\n"
      ],
      "metadata": {
        "id": "B2yx1MCLe7Ev"
      }
    },
    {
      "cell_type": "markdown",
      "source": [
        "*Exemplo 1*\n",
        "\n",
        "\n",
        "Imprimindo cada valor acima."
      ],
      "metadata": {
        "id": "9xF3HW1ShUM2"
      }
    },
    {
      "cell_type": "code",
      "source": [
        "# Definindo a tupla.\n",
        "tupla2 = (1, 3, 5, 7)\n",
        "\n",
        "# Imprimindo valores e suas posições respectivamente.\n",
        "print(tupla2[0])\n",
        "print(tupla2[1])\n",
        "print(tupla2[2])\n",
        "print(tupla2[3])"
      ],
      "metadata": {
        "colab": {
          "base_uri": "https://localhost:8080/"
        },
        "id": "OUh-v1Tohdox",
        "outputId": "89e09575-c1bf-4ef6-b695-5c50124b3e1a",
        "collapsed": true
      },
      "execution_count": null,
      "outputs": [
        {
          "output_type": "stream",
          "name": "stdout",
          "text": [
            "1\n",
            "3\n",
            "5\n",
            "7\n"
          ]
        }
      ]
    },
    {
      "cell_type": "markdown",
      "source": [
        "*Exemplo 2*\n",
        "\n",
        "Imprimindo a soma dos valores da \"tupla2\"."
      ],
      "metadata": {
        "id": "i2NzPVy9jNMC"
      }
    },
    {
      "cell_type": "code",
      "source": [
        "# Somando os valores\n",
        "soma = tupla2[0] + tupla2[1] + tupla2[2] + tupla2[3]\n",
        "\n",
        "# Imprimindo a soma dos valores\n",
        "print(soma)"
      ],
      "metadata": {
        "colab": {
          "base_uri": "https://localhost:8080/"
        },
        "id": "Hjzv9iTMja4N",
        "outputId": "eef3e50a-300a-4874-90a2-aaa446f4e12b"
      },
      "execution_count": null,
      "outputs": [
        {
          "output_type": "stream",
          "name": "stdout",
          "text": [
            "16\n"
          ]
        }
      ]
    },
    {
      "cell_type": "markdown",
      "source": [
        "**Acessando Múltiplos Valores**\n",
        "\n",
        "* É possível acessar mais de um valor ao mesmo tempo, basta colocar entre colchetes;\n",
        "\n",
        "\n",
        "```\n",
        "tupla2[0:2]\n",
        "tupla2[2:4]\n",
        "tupla2[:3]\n",
        "tupla2[2:]\n",
        "tupla2[-1]\n",
        "```\n",
        "[0:2]: Acessa os dois primeiros elementos da tupla. Resultado: ``` 10, 17 ```\n",
        "\n",
        "[2:4]: Acessa o 3º e o 4º elementos da tupla. Importante lembrar que o índice final (posição 4) não é incluído. Resultado: ``` 6, 7 ```\n",
        "\n",
        "[:3]: Acessa os três primeiros elementos da tupla. Resultado: ``` 10, 17 6 ```\n",
        "\n",
        "[2:]: Acessa do 3º elemento até o último. Resultado: ``` 6, 7 ```\n",
        "\n",
        "[-1]: Acessa o último elemento da tupla. Resultado: ``` 7 ```"
      ],
      "metadata": {
        "id": "dJ7HBkXWbIQz"
      }
    },
    {
      "cell_type": "code",
      "source": [
        "# Defininda a tupla\n",
        "tupla2 = (10, 17, 6, 7)\n",
        "\n",
        "# Acessndo mais de um valor da \"tupla2\"\n",
        "print(tupla2[0:2])\n",
        "print(\"\")\n",
        "print(tupla2[2:4])\n",
        "print(\"\")\n",
        "print(tupla2[:3])\n",
        "print(\"\")\n",
        "print(tupla2[2:])\n",
        "print(\"\")\n",
        "print(tupla2[-1])"
      ],
      "metadata": {
        "colab": {
          "base_uri": "https://localhost:8080/"
        },
        "id": "8t0pnJMzf95C",
        "outputId": "ce156949-b3c8-45bf-871a-f7506624beb0"
      },
      "execution_count": null,
      "outputs": [
        {
          "output_type": "stream",
          "name": "stdout",
          "text": [
            "(10, 17)\n",
            "\n",
            "(6, 7)\n",
            "\n",
            "(10, 17, 6)\n",
            "\n",
            "(6, 7)\n",
            "\n",
            "7\n"
          ]
        }
      ]
    },
    {
      "cell_type": "markdown",
      "source": [
        "**As tuplas são imutáveis, ou seja, a partir do momento que ela é declarada, não pode mais mudar seus valores.**\n",
        "\n",
        "A tupla possui o próprio tipo: ``` tuple ```.\n",
        "\n",
        "\n",
        "Porém os valores de cada um dos seus termos permanecem com o tipo original.\n"
      ],
      "metadata": {
        "id": "IpVSo-VwynmR"
      }
    },
    {
      "cell_type": "code",
      "source": [
        "# Definindo a tupla\n",
        "tupla3 = (3,4,6,10)\n",
        "\n",
        "# Imprimindo as variáveis e seus tipos\n",
        "print(tupla3)\n",
        "print()\n",
        "print(type(tupla3[0])) # Resposta -> \"int\". Ou seja, se pegarmos um valor separadamente o comando \"type\" vai retornar o valor da variável.\n",
        "print()\n",
        "print(type(tupla3))"
      ],
      "metadata": {
        "colab": {
          "base_uri": "https://localhost:8080/"
        },
        "id": "sYx3gX9h0g_x",
        "outputId": "524be0df-954c-4b1d-f144-fd58f6a55c48"
      },
      "execution_count": null,
      "outputs": [
        {
          "output_type": "stream",
          "name": "stdout",
          "text": [
            "(3, 4, 6, 10)\n",
            "\n",
            "<class 'int'>\n",
            "\n",
            "<class 'tuple'>\n"
          ]
        }
      ]
    },
    {
      "cell_type": "markdown",
      "source": [
        "# Funções com Tuplas\n",
        "\n",
        "Temos algumas funções muito usadas em tuplas:\n",
        "\n",
        "\n",
        "\n",
        "``` len(tupla1) ```: Quantindade de termos\n",
        "\n",
        "``` sorted(tupla1) ```: Ordenar\n",
        "\n",
        "``` tupla1.count(valor) ```: Contar a quantidade de \"valor\"\n",
        "\n",
        "``` tupla1.index(valor) ```: Achar a primeira posição de \"valor\"\n",
        "\n",
        "``` tupla1.index(valor, pos) ```: Achar o \"valor\" a partir da \"pos\"\n",
        "\n",
        "``` tupla1 + tupla2 ```: Concatenar *tuplas*\n",
        "\n",
        "---\n",
        "\n",
        "\n",
        "*Exemplo 1*\n",
        "\n",
        "\n",
        "\n",
        "Utilizando as tuplas a baixo:\n",
        "\n",
        "\n",
        "```\n",
        "tupla1 = (\"Lanche\", \"Batata\", \"Refri\")\n",
        "tupla2 = (0, 7, 8, 9, 12, 17, 6)\n",
        "tupla3 = (1, 5, 5, 27, 15, 4, \"Sanduiche\")\n",
        "```\n",
        "\n",
        "Faça:\n",
        "* Calcule o tamanho da tuplas: tupla1 e tupla2\n",
        "* Imprima as tuplas ordenadas: tupla1 e tupla2 e depois reimprima-as\n",
        "* Conte quantas vezes aparecem o valor 5 na \"tupla3\"\n",
        "* Procure o valor \"5\" na \"tupla3\" após o 2° termo\n",
        "* Concatene as tuplas: tupla2 e tupla3  \n",
        "\n",
        "\n",
        "\n",
        "\n",
        "\n",
        "\n"
      ],
      "metadata": {
        "id": "Id8msa3u8wiw"
      }
    },
    {
      "cell_type": "code",
      "source": [
        "# Declarando as Tuplas\n",
        "tupla1 = (\"Lanche\", \"Batata\", \"Refri\")\n",
        "tupla2 = (0, 7, 8, 9, 12, 17, 6)\n",
        "tupla3 = (1, 5, 4, 5, 15, 4, \"Sanduiche\")"
      ],
      "metadata": {
        "id": "Rg0BEqoG-OP2"
      },
      "execution_count": null,
      "outputs": []
    },
    {
      "cell_type": "code",
      "source": [
        "# Tamanho das tuplas \"tupla1\" e \"tupla2\"\n",
        "print(len(tupla1)) # Resposta -> 3\n",
        "print(len(tupla2)) # Resposta -> 7\n",
        "print(len(tupla3)) # Resposta -> 7"
      ],
      "metadata": {
        "colab": {
          "base_uri": "https://localhost:8080/"
        },
        "id": "AjQOCMC9BGe6",
        "outputId": "bdba4f42-833a-4d8c-eaa6-707f14bec04f"
      },
      "execution_count": null,
      "outputs": [
        {
          "output_type": "stream",
          "name": "stdout",
          "text": [
            "3\n",
            "7\n",
            "7\n"
          ]
        }
      ]
    },
    {
      "cell_type": "code",
      "source": [
        "# Imprmindo as \"tupla1\" e \"tupla2\"\n",
        "print(sorted(tupla1)) # Vai ordenar por ordem alfabetica, por que estamos ordenando Strings\n",
        "print(sorted(tupla2)) # Vai ordenar do menor para o maior\n"
      ],
      "metadata": {
        "colab": {
          "base_uri": "https://localhost:8080/"
        },
        "id": "65BvEvtnBwvn",
        "outputId": "590be889-8f93-466e-c82a-83f062ea7074"
      },
      "execution_count": null,
      "outputs": [
        {
          "output_type": "stream",
          "name": "stdout",
          "text": [
            "['Batata', 'Lanche', 'Refri']\n",
            "[0, 6, 7, 8, 9, 12, 17]\n"
          ]
        }
      ]
    },
    {
      "cell_type": "code",
      "source": [
        "# Conte quantas vezes aparecem o valor 5 na \"tupla3\"\n",
        "print(tupla3)\n",
        "print()\n",
        "\n",
        "# Contando\n",
        "tupla3_count = tupla3.count(5)\n",
        "print(tupla3_count) # Resposta -> 2\n"
      ],
      "metadata": {
        "colab": {
          "base_uri": "https://localhost:8080/"
        },
        "id": "GueVqZhlE7MQ",
        "outputId": "87f8a05e-a68b-4b32-da09-fe676d790c2e"
      },
      "execution_count": null,
      "outputs": [
        {
          "output_type": "stream",
          "name": "stdout",
          "text": [
            "(1, 5, 5, 27, 15, 4, 'Sanduiche')\n",
            "\n",
            "2\n"
          ]
        }
      ]
    },
    {
      "cell_type": "code",
      "source": [
        "# Achar a primeira posição do valor \"5\" na tupla3\n",
        "print(tupla3)\n",
        "print()\n",
        "\n",
        "# Variável \"tupla3_index\"\n",
        "tupla3_index = tupla3.index(5)\n",
        "print(tupla3_index) # Resposta -> posição 1\n",
        "\n",
        "# Procurando um \"valor\" após uma \"posição\".\n",
        "# Variável \"tupla3_pos\"\n",
        "tupla3_pos = tupla3.index(5, 2)\n",
        "print(tupla3_pos) # Resposta -> 3, pois ele vai começar a contar apartir do 2° posição, que nesse caso é \"4\"\n"
      ],
      "metadata": {
        "colab": {
          "base_uri": "https://localhost:8080/"
        },
        "id": "fgvCeoXSGGAE",
        "outputId": "3ba50a3a-9304-4a63-c103-0042874a5ce8"
      },
      "execution_count": null,
      "outputs": [
        {
          "output_type": "stream",
          "name": "stdout",
          "text": [
            "(1, 5, 4, 5, 15, 4, 'Sanduiche')\n",
            "\n",
            "1\n",
            "3\n"
          ]
        }
      ]
    },
    {
      "cell_type": "code",
      "source": [
        "# Concatenar as tuplas: \"tupla1\" e \"tupla2\"\n",
        "tupla_concatenada = tupla1 + tupla2\n",
        "print(tupla_concatenada)\n",
        "\n",
        "# Contar o valor da nova tupla\n",
        "print(len(tupla_concatenada))\n",
        "\n",
        "# Ordenar a tupla\n",
        "print(sorted(tupla_concatenada)) # Resposta -> erro, pois não pode concatenar \"int\" com \"String\"\n"
      ],
      "metadata": {
        "colab": {
          "base_uri": "https://localhost:8080/",
          "height": 228
        },
        "collapsed": true,
        "id": "wHvgdYAEI5g4",
        "outputId": "f0a506af-d7e3-4073-e1c2-45bb56f65db2"
      },
      "execution_count": null,
      "outputs": [
        {
          "output_type": "stream",
          "name": "stdout",
          "text": [
            "('Lanche', 'Batata', 'Refri', 0, 7, 8, 9, 12, 17, 6)\n",
            "10\n"
          ]
        },
        {
          "output_type": "error",
          "ename": "TypeError",
          "evalue": "'<' not supported between instances of 'int' and 'str'",
          "traceback": [
            "\u001b[0;31m---------------------------------------------------------------------------\u001b[0m",
            "\u001b[0;31mTypeError\u001b[0m                                 Traceback (most recent call last)",
            "\u001b[0;32m<ipython-input-56-d57127571b96>\u001b[0m in \u001b[0;36m<cell line: 0>\u001b[0;34m()\u001b[0m\n\u001b[1;32m      7\u001b[0m \u001b[0;34m\u001b[0m\u001b[0m\n\u001b[1;32m      8\u001b[0m \u001b[0;31m# Ordenar a tupla\u001b[0m\u001b[0;34m\u001b[0m\u001b[0;34m\u001b[0m\u001b[0m\n\u001b[0;32m----> 9\u001b[0;31m \u001b[0mprint\u001b[0m\u001b[0;34m(\u001b[0m\u001b[0msorted\u001b[0m\u001b[0;34m(\u001b[0m\u001b[0mtupla_concatenada\u001b[0m\u001b[0;34m)\u001b[0m\u001b[0;34m)\u001b[0m\u001b[0;34m\u001b[0m\u001b[0;34m\u001b[0m\u001b[0m\n\u001b[0m\u001b[1;32m     10\u001b[0m \u001b[0;34m\u001b[0m\u001b[0m\n",
            "\u001b[0;31mTypeError\u001b[0m: '<' not supported between instances of 'int' and 'str'"
          ]
        }
      ]
    },
    {
      "cell_type": "code",
      "source": [
        "# Concatene as \"tupla2\" e \"tupla3\"\n",
        "print(tupla2 + tupla3)\n",
        "\n",
        "# Concatene as \"tupla3\" e \"tupla2\"\n",
        "print(tupla3 + tupla2) # Respostas diferentes"
      ],
      "metadata": {
        "colab": {
          "base_uri": "https://localhost:8080/"
        },
        "id": "WG4Yv6oPMpXq",
        "outputId": "0e7d3a86-bcef-481e-c69f-5747440ce9a1"
      },
      "execution_count": null,
      "outputs": [
        {
          "output_type": "stream",
          "name": "stdout",
          "text": [
            "(0, 7, 8, 9, 12, 17, 6, 1, 5, 4, 5, 15, 4, 'Sanduiche')\n",
            "(1, 5, 4, 5, 15, 4, 'Sanduiche', 0, 7, 8, 9, 12, 17, 6)\n"
          ]
        }
      ]
    },
    {
      "cell_type": "markdown",
      "source": [
        "# Tuplas dentro do For\n",
        "\n",
        "As tuplas possuem vários valores, assim como a range. Portanto, podemos rodar um looping de for com os valores diretos de uma lista.\n",
        "\n",
        "**Estrutura:**\n",
        "A partir do momento que a tupla esta definida podemos rodar o for utilizando:\n",
        "\n",
        "\n",
        "```\n",
        "for i in tupla:\n",
        "```\n",
        "Quando utilizamos esse comando, em cada passo do loop, a variável de controle ``` i ``` vai valer cada item da tupla, até percorrermos toda a tupla.\n",
        "\n",
        "*Exemplo 1*\n",
        "\n",
        "\n",
        "Dada a tupla:\n",
        "``` tupla1 = (\"Lanche\", \"Refri\", \"Batata\") ```\n",
        "\n",
        "\n",
        "Imprima seus valores."
      ],
      "metadata": {
        "id": "3Jn81RcRXz23"
      }
    },
    {
      "cell_type": "code",
      "source": [
        "# Definindo a váriavel\n",
        "tupla1 = (\"Lanche\", \"Refri\", \"Batata\")\n",
        "\n",
        "# Imprimindo os valores da \"tupla1\"\n",
        "for i in tupla1:\n",
        "  print(\"Temos no nosso cardápio: {}\".format(i))\n",
        "\n",
        "print(\"Fim do cardápio!\")"
      ],
      "metadata": {
        "colab": {
          "base_uri": "https://localhost:8080/"
        },
        "id": "qTFUUW9NZ-gt",
        "outputId": "aa108544-e878-4aff-8f9d-a8dbf3b00f78"
      },
      "execution_count": null,
      "outputs": [
        {
          "output_type": "stream",
          "name": "stdout",
          "text": [
            "Temos no nosso cardápio: Lanche\n",
            "Temos no nosso cardápio: Refri\n",
            "Temos no nosso cardápio: Batata\n",
            "Fim do cardápio!\n"
          ]
        }
      ]
    },
    {
      "cell_type": "markdown",
      "source": [
        "*Exemplo 2*\n",
        "\n",
        "Dado a tupla2, some todos os valores."
      ],
      "metadata": {
        "id": "j1t3bnkYb-3a"
      }
    },
    {
      "cell_type": "code",
      "source": [
        "print(tupla2)\n",
        "\n",
        "# Criando a variável \"soma\"\n",
        "soma = 0\n",
        "\n",
        "# Criando loop para somar todos os valores dentro da \"tupla2\"\n",
        "for i in tupla2:\n",
        "  soma += i\n",
        "  print(\"i = {}  soma = {}\". format(i, soma)) # Demosntra o que esta acontecendo dentro do loop\n",
        "\n",
        "print(soma)"
      ],
      "metadata": {
        "colab": {
          "base_uri": "https://localhost:8080/"
        },
        "id": "BUL1zPAGcLCI",
        "outputId": "3ce1f490-e22e-4320-f8b9-6169f949cfa4"
      },
      "execution_count": null,
      "outputs": [
        {
          "output_type": "stream",
          "name": "stdout",
          "text": [
            "(0, 7, 8, 9, 12, 17, 6)\n",
            "i = 0  soma = 0\n",
            "i = 7  soma = 7\n",
            "i = 8  soma = 15\n",
            "i = 9  soma = 24\n",
            "i = 12  soma = 36\n",
            "i = 17  soma = 53\n",
            "i = 6  soma = 59\n",
            "59\n"
          ]
        }
      ]
    },
    {
      "cell_type": "markdown",
      "source": [
        "### **Enumerate()*\n",
        "\n",
        "Quando usamos essa função dentro da declaração de um for, ela vai mostrar pra gente tanto o valor da variável de controle quanto o indeice dela, segue sintaxe:\n",
        "\n",
        "```\n",
        "for indeice, valor in enumerate(tupla1)\n",
        "\n",
        "```\n",
        "\n",
        "\n",
        "\n",
        "---\n",
        "\n",
        "\n",
        "*Exemplo 1*\n",
        "\n",
        "Mostre os indices e os valores da \"tupla1\""
      ],
      "metadata": {
        "id": "dN2vUv_9e9bv"
      }
    },
    {
      "cell_type": "code",
      "source": [
        "print(tupla1)\n",
        "\n",
        "for indice, valor in enumerate(tupla1):\n",
        "  print(\"para indice = {}, temos o valor = {}\".format(indice, valor))"
      ],
      "metadata": {
        "colab": {
          "base_uri": "https://localhost:8080/"
        },
        "id": "SmFp2C_NgSwu",
        "outputId": "b8f44950-341a-4aa8-eec8-5a260242a384"
      },
      "execution_count": null,
      "outputs": [
        {
          "output_type": "stream",
          "name": "stdout",
          "text": [
            "('Lanche', 'Refri', 'Batata')\n",
            "para indice = 0, temos o valor = Lanche\n",
            "para indice = 1, temos o valor = Refri\n",
            "para indice = 2, temos o valor = Batata\n"
          ]
        }
      ]
    },
    {
      "cell_type": "markdown",
      "metadata": {
        "id": "-mhMpbhnPqi5"
      },
      "source": [
        "# Exercícios"
      ]
    },
    {
      "cell_type": "markdown",
      "metadata": {
        "id": "BSypkNqYR41J"
      },
      "source": [
        "<h2> Exercício 1 </h2>\n",
        "\n",
        "Dada a tupla abaixo:\n",
        "```\n",
        "t1 = ('Doce', 'Churrasco', 'Bala ', 'Tapioca', 'Pizza ', 'Feijão ',\n",
        "      'Arroz ', 'Açaí ', 'Paçoca ', 'Acarajé', 'Pamonha', 'Dobradinha', 'Rapadura')\n",
        "```\n",
        "Faça um programa que:\n",
        "\n",
        "* O usuário digita uma comida e seu programa diz em qual posição do cardápio esse item está\n",
        "* Printe os itens em ordem alfabética para o usuário"
      ]
    },
    {
      "cell_type": "code",
      "metadata": {
        "id": "8HOJE9nVTF4E",
        "colab": {
          "base_uri": "https://localhost:8080/"
        },
        "outputId": "e80bc93f-ab27-44bd-dce7-70c83e37e12f"
      },
      "source": [
        "# Definindo a tupla\n",
        "# OBS: Na \"tupla1\" em algumas palavras havia um \"espaço\", por exemplo: \"Bala \"\n",
        "# o que interfere diretamente no processo de busca, ou seja, \"Bala \" é diferente de \"Bala\"\n",
        "tupla1 = ('Doce', 'Churrasco', 'Bala', 'Tapioca', 'Pizza', 'Feijão',\n",
        "      'Arroz', 'Açaí', 'Paçoca', 'Acarajé', 'Pamonha', 'Dobradinha', 'Rapadura')\n",
        "\n",
        "# Mostra o cardápio\n",
        "print(\"-\" * 18)\n",
        "print( \" \" + \"CARDÁPIO DO DIA\")\n",
        "print(\"-\" * 18)\n",
        "\n",
        "# Interação com o usuário\n",
        "comida_digitada = input(\"Comida: \")\n",
        "\n",
        "# Mensagem para o cliente\n",
        "print(\"Procurando por {} no cardápio.\".format(comida_digitada))\n",
        "\n",
        "# Quebra de linha\n",
        "print(\"\")\n",
        "\n",
        "# Mostra a posição da comida digitada pelo cliente\n",
        "tupla1_posicao = tupla1.index(comida_digitada)\n",
        "print(\"A comida {} esta na posição {} do cardápio\".format(comida_digitada, tupla1_posicao))\n",
        "\n",
        "# Cardápio em ordem alfabetica\n",
        "print(\"Segue cardápio em ordem alfabetica: \")\n",
        "print(sorted(tupla1))\n",
        "\n"
      ],
      "execution_count": 9,
      "outputs": [
        {
          "output_type": "stream",
          "name": "stdout",
          "text": [
            "------------------\n",
            " CARDÁPIO DO DIA\n",
            "------------------\n",
            "Comida: Tapioca\n",
            "Procurando por Tapioca no cardápio.\n",
            "\n",
            "A comida Tapioca esta na posição 3 do cardápio\n",
            "Segue cardápio em ordem alfabetica: \n",
            "['Acarajé', 'Arroz', 'Açaí', 'Bala', 'Churrasco', 'Dobradinha', 'Doce', 'Feijão', 'Pamonha', 'Paçoca', 'Pizza', 'Rapadura', 'Tapioca']\n"
          ]
        }
      ]
    },
    {
      "cell_type": "markdown",
      "metadata": {
        "id": "PGL1a2EATGX2"
      },
      "source": [
        "<h2> Exercício 2 </h2>\n",
        "\n",
        "Dado a tupla abaixo:\n",
        "```\n",
        "tupla1 = ('Doce', 2.3, 'Bala ', 0.15, 'Pizza ', 28.9, 'Arroz ', 4.5, 'Paçoca ', 0.5, 'Pamonha', 5.4)\n",
        "```\n",
        "Os dados estão organizados de forma que tem o valor do produto e logo após o seu preço. Faça um programa que:\n",
        "\n",
        "* Mostre o cardápio de forma organizada\n",
        "\n",
        "Resultado esperado:\n",
        "\n",
        "![image.png](data:image/png;base64,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)"
      ]
    },
    {
      "cell_type": "code",
      "metadata": {
        "colab": {
          "base_uri": "https://localhost:8080/"
        },
        "id": "3A_9u0rfTd_U",
        "outputId": "f4391a3e-a715-49d9-d902-2525d3c1b7ee"
      },
      "source": [
        "# Definindo a tupla\n",
        "tupla1 = ('Doce', 2.3, 'Bala', 0.15, 'Pizza', 28.9, 'Arroz', 4.5, 'Paçoca', 0.5, 'Pamonha', 5.4)\n",
        "\n",
        "# Titulo: Cardápio\n",
        "print(\"=\" * 40)\n",
        "print(f\"{'Cardápio':^40}\")\n",
        "print(\"=\" * 40)\n",
        "\n",
        "# Loop criado para acessar a tupla de 2 em 2.\n",
        "for i in range(0, len(tupla1), 2):\n",
        "    produto = tupla1[i]\n",
        "    preco = tupla1[i + 1]\n",
        "    print(f\"{produto:<30} R$ {preco:>6.2f}\")\n",
        "\n",
        "print(\"=\" * 40)"
      ],
      "execution_count": 26,
      "outputs": [
        {
          "output_type": "stream",
          "name": "stdout",
          "text": [
            "========================================\n",
            "                Cardápio                \n",
            "========================================\n",
            "Doce                           R$   2.30\n",
            "Bala                           R$   0.15\n",
            "Pizza                          R$  28.90\n",
            "Arroz                          R$   4.50\n",
            "Paçoca                         R$   0.50\n",
            "Pamonha                        R$   5.40\n",
            "========================================\n"
          ]
        }
      ]
    },
    {
      "cell_type": "markdown",
      "source": [
        "**Explicação do Loop**\n",
        "\n",
        "```\n",
        "range(0, len(tupla1), 2)\n",
        "```\n",
        "\n",
        "\n",
        "* Esse **range()** cria uma sequência de índices que vai de **0** até o tamanho da tupla **(len(tupla1))**, com passo de 2.\n",
        "\n",
        "\n",
        "* Ele gera os índices 0, 2, 4, 6, 8, 10.\n",
        "* Esses índices são usados para acessar os nomes dos produtos.\n",
        "\n",
        "* **produto = tupla1[i]** pega o elemento no índice atual **(i)**, que é o nome do produto.\n",
        "\n",
        "\n",
        "\n",
        "***Exemplo:***\n",
        "\n",
        "i = 0 → produto = 'Doce'\n",
        "\n",
        "\n",
        "i = 2 → produto = 'Bala'\n",
        "\n",
        "\n",
        "preco = tupla1[i + 1] pega o próximo elemento (i + 1), que é o preço correspondente.\n",
        "\n",
        "\n",
        "\n",
        "***Exemplo:***\n",
        "\n",
        "i = 0 → preco = 2.3\n",
        "\n",
        "\n",
        "i = 2 → preco = 0.15\n",
        "\n"
      ],
      "metadata": {
        "id": "AUYsiqAkOMJr"
      }
    },
    {
      "cell_type": "markdown",
      "metadata": {
        "id": "gPtEDsZgVM5f"
      },
      "source": [
        "<h2> Exercício 3 </h2>\n",
        "\n",
        "Dado a mesma tupla do exercício anterior faça um programa que:\n",
        "\n",
        "* O usuário visualiza o cardápio e digita qual item ele quer comprar. A seguir pergunta se ele quer algo a mais. Caso ele queira vai somando todos os valores do pedido numa variável `soma`.\n",
        "* No final printe para o usuário o valor total da conta dele"
      ]
    }
  ]
}