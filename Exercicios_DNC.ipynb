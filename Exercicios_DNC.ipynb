{
  "nbformat": 4,
  "nbformat_minor": 0,
  "metadata": {
    "colab": {
      "provenance": [],
      "authorship_tag": "ABX9TyM2pUN376HxA4/nSz4pvHt2",
      "include_colab_link": true
    },
    "kernelspec": {
      "name": "python3",
      "display_name": "Python 3"
    },
    "language_info": {
      "name": "python"
    }
  },
  "cells": [
    {
      "cell_type": "markdown",
      "metadata": {
        "id": "view-in-github",
        "colab_type": "text"
      },
      "source": [
        "<a href=\"https://colab.research.google.com/github/Thiago383/Python-Estudos/blob/main/Exercicios_DNC.ipynb\" target=\"_parent\"><img src=\"https://colab.research.google.com/assets/colab-badge.svg\" alt=\"Open In Colab\"/></a>"
      ]
    },
    {
      "cell_type": "markdown",
      "source": [
        "**Exercicio 01:**\n",
        "\n",
        "Seu primeiro desafio é desenvolver um programa para um depósito de\n",
        "bebidas que valide venda de bebidas para maiores de idade (maior ou\n",
        "igual 18 anos) no mercado, o programa deve receber do usuário os\n",
        "valores do nome e ano que ele nasceu e retornar se ele pode comprar\n",
        "bebidas."
      ],
      "metadata": {
        "id": "1747FvvjmLbb"
      }
    },
    {
      "cell_type": "code",
      "source": [
        "\n",
        "print(\"--------------------\")\n",
        "print(\"Depósito de Bebidas\")\n",
        "print(\"--------------------\")\n",
        "\n",
        "print()\n",
        "\n",
        "print(\"Por favor, informe seu nome completo e ano de nascimento: \")\n",
        "\n",
        "resposta_nome = input(\"Nome completo: \")\n",
        "nome = (resposta_nome)\n",
        "\n",
        "resposta_ano = input(\"Ano de nascimento:\")\n",
        "ano = int(resposta_ano)\n",
        "\n",
        "idade = (2025 - ano)\n",
        "\n",
        "print()\n",
        "if idade >= 18:\n",
        "  print(f\"Você é maior de idade, pode seguir com a compra.\")\n",
        "else:\n",
        "  print(f\"Você é menor de idade, não pode realizar compras nesse estabelecimento.\")\n",
        "\n"
      ],
      "metadata": {
        "colab": {
          "base_uri": "https://localhost:8080/"
        },
        "collapsed": true,
        "id": "rzTPMIpnmuRx",
        "outputId": "1adaf175-08ad-47d0-c132-d9cc69282237"
      },
      "execution_count": null,
      "outputs": [
        {
          "output_type": "stream",
          "name": "stdout",
          "text": [
            "--------------------\n",
            "Depósito de Bebidas\n",
            "--------------------\n",
            "\n",
            "Por favor, informe seu nome completo e ano de nascimento: \n",
            "Nome completo: thiago\n",
            "Ano de nascimento:2001\n",
            "\n",
            "Você é maior de idade, pode seguir com a compra.\n"
          ]
        }
      ]
    },
    {
      "cell_type": "markdown",
      "source": [
        "**Exercicio 02**\n",
        "\n",
        "Esse bimestre na faculdade você precisa tirar nota 8 de média para\n",
        "passar na matéria, desenvolva um script que leia a nota de suas\n",
        "últimas 3 provas, tire a média delas e verifique se você passou."
      ],
      "metadata": {
        "id": "_zRmz2Ggv1nU"
      }
    },
    {
      "cell_type": "code",
      "source": [
        "\n",
        "\n",
        "print(\"Digite as notas das três provas aplicadas durante o bimestre: \")\n",
        "resposta_prova_um = input(\"Primeira Prova: \")\n",
        "prova_um = float(resposta_prova_um)\n",
        "\n",
        "resposta_prova_dois = input(\"Segunda Prova: \")\n",
        "prova_dois = float(resposta_prova_dois)\n",
        "\n",
        "resposta_prova_tres = input(\"Terceira Prova: \")\n",
        "prova_tres = float(resposta_prova_tres)\n",
        "\n",
        "# Calculando a média das provas\n",
        "media = (prova_um + prova_dois + prova_tres)/3\n",
        "print(f\"Média: {media:.2f} \")\n",
        "print()\n",
        "\n",
        "# Calculando, Aprovação ou Reprovação\n",
        "if media >= 8:\n",
        "  print(f\"Você foi aprovado!\\nNota de corte: {media:.2f}\")\n",
        "else:\n",
        "  print(f\"Você foi reprovado!\\nNota de corte: {media:.2f}\")\n"
      ],
      "metadata": {
        "colab": {
          "base_uri": "https://localhost:8080/"
        },
        "id": "iXpDNONtwfzh",
        "outputId": "493ff2bc-ff5b-4f20-cd0f-4f1e2e5baa7c"
      },
      "execution_count": null,
      "outputs": [
        {
          "output_type": "stream",
          "name": "stdout",
          "text": [
            "Digite as notas das três provas aplicadas durante o bimestre: \n",
            "Primeira Prova: 9\n",
            "Segunda Prova: 8\n",
            "Terceira Prova: 6\n",
            "Média: 7.67 \n",
            "\n",
            "Você foi reprovado!\n",
            "Nota de corte: 7.67\n"
          ]
        }
      ]
    },
    {
      "cell_type": "markdown",
      "source": [
        "**Exercicio 03**\n",
        "\n",
        "A fisioterapeuta que você vai gosta muito de brincar com números, e\n",
        "pediu para você criar um sistema que verifique se a altura inserida é\n",
        "par ou impar."
      ],
      "metadata": {
        "id": "1Jo3IJJrA6ql"
      }
    },
    {
      "cell_type": "code",
      "source": [
        "\n",
        "# Interação com o usuário.\n",
        "interacao = input(f\"Digite sua altura: \")\n",
        "altura = int(interacao)\n",
        "\n",
        "# Verificando se o numero digitado é par ou impar.\n",
        "# \"%\" verifica o resto da divisão.\n",
        "# \"try\" e \"except\", serve para tratar exceções. Por exemplo: o usuário digitar um numero com virgula.\n",
        "try:\n",
        "  if altura % 2 == 0:\n",
        "    print(f\"O número {altura}, é par! \")\n",
        "  else:\n",
        "    print(f\"O número {altura}, é impar!\")\n",
        "except ValueError:\n",
        "  print(f\"Erro, Digite um numero inteiro valido.\")"
      ],
      "metadata": {
        "colab": {
          "base_uri": "https://localhost:8080/"
        },
        "collapsed": true,
        "id": "T24VpNXqBDWU",
        "outputId": "28b82f6b-23dc-4122-fe9a-9a36a27a58e0"
      },
      "execution_count": null,
      "outputs": [
        {
          "output_type": "stream",
          "name": "stdout",
          "text": [
            "Digite sua altura: 4\n",
            "O número 4, é par! \n"
          ]
        }
      ]
    },
    {
      "cell_type": "markdown",
      "source": [
        "**Exercicio 04:**\n",
        "\n",
        "Faça um script que você coloque a quantidade de dias e descubra em\n",
        "qual trimestre esse dia está no ano."
      ],
      "metadata": {
        "id": "eE4ou3D6F2_K"
      }
    },
    {
      "cell_type": "code",
      "source": [
        "\n",
        "# Solicita ao usuário a quantidade de dias\n",
        "dias = int(input(\"Digite a quantidade de dias: \"))\n",
        "\n",
        "# Verifica em qual trimestre o dia se encontra\n",
        "if 1 <= dias <= 90:\n",
        "    trimestre = \"1º Trimestre (Janeiro - Março)\"\n",
        "elif 91 <= dias <= 181:\n",
        "    trimestre = \"2º Trimestre (Abril - Junho)\"\n",
        "elif 182 <= dias <= 273:\n",
        "    trimestre = \"3º Trimestre (Julho - Setembro)\"\n",
        "elif 274 <= dias <= 365:\n",
        "    trimestre = \"4º Trimestre (Outubro - Dezembro)\"\n",
        "else:\n",
        "    trimestre = \"Valor inválido! O ano tem no máximo 365 dias.\"\n",
        "\n",
        "# Exibe o resultado\n",
        "print(f\"O dia {dias} está no {trimestre}.\")\n",
        "\n"
      ],
      "metadata": {
        "colab": {
          "base_uri": "https://localhost:8080/"
        },
        "id": "R_3NQWmwF_nk",
        "outputId": "91e8805b-afa6-42b4-d7c6-f3e4141d23ff"
      },
      "execution_count": null,
      "outputs": [
        {
          "output_type": "stream",
          "name": "stdout",
          "text": [
            "Digite a quantidade de dias: 9\n",
            "O dia 9 está no 1º Trimestre (Janeiro - Março).\n"
          ]
        }
      ]
    }
  ]
}